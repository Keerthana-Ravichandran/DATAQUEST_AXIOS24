{
  "nbformat": 4,
  "nbformat_minor": 0,
  "metadata": {
    "colab": {
      "provenance": []
    },
    "kernelspec": {
      "name": "python3",
      "display_name": "Python 3"
    },
    "language_info": {
      "name": "python"
    }
  },
  "cells": [
    {
      "cell_type": "code",
      "execution_count": null,
      "metadata": {
        "id": "DugF3PgGysCx"
      },
      "outputs": [],
      "source": [
        "import pandas as pd"
      ]
    },
    {
      "cell_type": "code",
      "source": [
        "df_emp=pd.read_csv(\"/content/EmployeeData.csv\")\n",
        "df_dep=pd.read_csv(\"/content/DepartmentData.csv\")"
      ],
      "metadata": {
        "id": "LUDnOTkHy7Gn"
      },
      "execution_count": null,
      "outputs": []
    },
    {
      "cell_type": "code",
      "source": [
        "merged_df = pd.merge(df_emp, df_dep, on='department_id', how='left')"
      ],
      "metadata": {
        "id": "MQ7KE9bhzI-F"
      },
      "execution_count": null,
      "outputs": []
    },
    {
      "cell_type": "code",
      "source": [
        "print(merged_df)"
      ],
      "metadata": {
        "colab": {
          "base_uri": "https://localhost:8080/"
        },
        "id": "LIsEqZZf0kRD",
        "outputId": "b8f2a078-500a-490a-f085-2e7be7acfd82"
      },
      "execution_count": null,
      "outputs": [
        {
          "output_type": "stream",
          "name": "stdout",
          "text": [
            "                 name  age     bonus  base_salary  department_id  \\\n",
            "0         Steve Smith   46  26048.96        59545              7   \n",
            "1           Eva Brown   31  46217.53        95261             17   \n",
            "2    Charlie Anderson   34  33768.80        97466              8   \n",
            "3     Rachel Martinez   49  30688.55        93735              7   \n",
            "4          Nina White   24  26566.34        56517              1   \n",
            "..                ...  ...       ...          ...            ...   \n",
            "375      Steve Garcia   40  26524.79        73248             12   \n",
            "376        Nina Clark   47  14331.60        30539             14   \n",
            "377   Rachel Martinez   36  44455.00        92493             11   \n",
            "378     Hannah Harris   57  24093.74        53098              4   \n",
            "379     Pamela Thomas   60  15722.04        45884              3   \n",
            "\n",
            "                    department_name  tax_rate  \n",
            "0                          Accounts      0.12  \n",
            "1                             Legal      0.14  \n",
            "2                        Operations      0.30  \n",
            "3                          Accounts      0.12  \n",
            "4                Talent Acquisition      0.22  \n",
            "..                              ...       ...  \n",
            "375                     Engineering      0.13  \n",
            "376                       Marketing      0.38  \n",
            "377                       Technical      0.21  \n",
            "378  Research and Development (R&D)      0.33  \n",
            "379                Customer Service      0.34  \n",
            "\n",
            "[380 rows x 7 columns]\n"
          ]
        }
      ]
    },
    {
      "cell_type": "code",
      "source": [
        "merged_df['net_salary']=(merged_df['base_salary']+merged_df['bonus'])*(1-merged_df['tax_rate'])\n",
        "print(merged_df)"
      ],
      "metadata": {
        "colab": {
          "base_uri": "https://localhost:8080/"
        },
        "id": "EcCBXL6cFPMi",
        "outputId": "6f477dd8-e618-4851-d10d-e43f29147829"
      },
      "execution_count": 9,
      "outputs": [
        {
          "output_type": "stream",
          "name": "stdout",
          "text": [
            "                 name  age     bonus  base_salary  department_id  \\\n",
            "0         Steve Smith   46  26048.96        59545              7   \n",
            "1           Eva Brown   31  46217.53        95261             17   \n",
            "2    Charlie Anderson   34  33768.80        97466              8   \n",
            "3     Rachel Martinez   49  30688.55        93735              7   \n",
            "4          Nina White   24  26566.34        56517              1   \n",
            "..                ...  ...       ...          ...            ...   \n",
            "375      Steve Garcia   40  26524.79        73248             12   \n",
            "376        Nina Clark   47  14331.60        30539             14   \n",
            "377   Rachel Martinez   36  44455.00        92493             11   \n",
            "378     Hannah Harris   57  24093.74        53098              4   \n",
            "379     Pamela Thomas   60  15722.04        45884              3   \n",
            "\n",
            "                    department_name  tax_rate   net_salary  \n",
            "0                          Accounts      0.12   75322.6848  \n",
            "1                             Legal      0.14  121671.5358  \n",
            "2                        Operations      0.30   91864.3600  \n",
            "3                          Accounts      0.12  109492.7240  \n",
            "4                Talent Acquisition      0.22   64805.0052  \n",
            "..                              ...       ...          ...  \n",
            "375                     Engineering      0.13   86802.3273  \n",
            "376                       Marketing      0.38   27819.7720  \n",
            "377                       Technical      0.21  108188.9200  \n",
            "378  Research and Development (R&D)      0.33   51718.4658  \n",
            "379                Customer Service      0.34   40659.9864  \n",
            "\n",
            "[380 rows x 8 columns]\n"
          ]
        }
      ]
    },
    {
      "cell_type": "code",
      "source": [
        "avg_salary_by_department = merged_df.groupby('department_name')['net_salary'].mean().reset_index()\n",
        "\n",
        "sorted_avg_salary = avg_salary_by_department.sort_values(by='net_salary', ascending=False)\n",
        "\n",
        "\n",
        "\n",
        "print(sorted_avg_salary)\n"
      ],
      "metadata": {
        "colab": {
          "base_uri": "https://localhost:8080/"
        },
        "id": "Ji75E5vT0nGT",
        "outputId": "3bc4cc14-7cbd-4f69-a156-cb9223c59320"
      },
      "execution_count": 11,
      "outputs": [
        {
          "output_type": "stream",
          "name": "stdout",
          "text": [
            "                   department_name    net_salary\n",
            "0                         Accounts  87621.851240\n",
            "8                            Legal  84939.271700\n",
            "9                        Logistics  83338.993455\n",
            "18                       Technical  82845.040600\n",
            "6                               HR  82318.159900\n",
            "4                      Engineering  77359.799700\n",
            "1             Business Development  76212.396535\n",
            "3                        Education  70849.017375\n",
            "16                           Sales  70457.413325\n",
            "17              Talent Acquisition  64335.881610\n",
            "7                               IT  63863.460675\n",
            "11                      Operations  62301.310400\n",
            "5                          Finance  62263.259415\n",
            "14               Quality Assurance  61846.002890\n",
            "2                 Customer Service  59702.041410\n",
            "15  Research and Development (R&D)  59549.536015\n",
            "13                Public Relations  58952.117980\n",
            "10                       Marketing  55113.780900\n",
            "12              Product Management  53356.979000\n"
          ]
        }
      ]
    },
    {
      "cell_type": "markdown",
      "source": [
        "ANSWER:"
      ],
      "metadata": {
        "id": "j4okBEnWGFNJ"
      }
    },
    {
      "cell_type": "code",
      "source": [
        "all the best iofqcrpmp"
      ],
      "metadata": {
        "id": "be7x2RSJ1Z9H"
      },
      "execution_count": null,
      "outputs": []
    }
  ]
}